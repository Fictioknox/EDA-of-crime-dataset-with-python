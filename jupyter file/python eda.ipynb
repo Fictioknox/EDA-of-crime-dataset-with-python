{
 "cells": [
  {
   "cell_type": "code",
   "execution_count": 1,
   "id": "159f7480-6d03-492d-bbc1-21d69883e9ef",
   "metadata": {},
   "outputs": [],
   "source": [
    "import pandas as pd\n",
    "import numpy as np\n",
    "import seaborn as sns\n",
    "import matplotlib.pyplot as plt\n",
    "from encodings.aliases import aliases\n",
    "\n",
    "%matplotlib inline"
   ]
  },
  {
   "cell_type": "code",
   "execution_count": 2,
   "id": "b0d8190c-6be3-40cd-a1ae-0037ce94c3c0",
   "metadata": {},
   "outputs": [
    {
     "name": "stdout",
     "output_type": "stream",
     "text": [
      "successful mac_greek\n",
      "successful iso8859_10\n",
      "successful cp273\n",
      "successful cp866\n",
      "successful mac_iceland\n",
      "successful cp037\n",
      "successful cp1251\n",
      "successful cp863\n",
      "successful iso8859_2\n",
      "successful big5hkscs\n",
      "successful cp1026\n",
      "successful cp861\n",
      "successful cp1140\n",
      "successful cp860\n",
      "successful cp500\n",
      "successful gb18030\n",
      "successful mac_roman\n",
      "successful cp865\n",
      "successful kz1048\n",
      "successful iso8859_14\n",
      "successful iso8859_13\n",
      "successful ptcp154\n",
      "successful cp869\n",
      "successful cp1256\n",
      "successful cp1254\n",
      "successful iso8859_8\n",
      "successful cp862\n",
      "successful cp1255\n",
      "successful iso8859_11\n",
      "successful latin_1\n",
      "successful cp864\n",
      "successful mbcs\n",
      "successful cp1250\n",
      "successful mac_cyrillic\n",
      "successful cp855\n",
      "successful iso8859_3\n",
      "successful utf_16_be\n",
      "successful cp1252\n",
      "successful cp932\n",
      "successful cp852\n",
      "successful cp949\n",
      "successful iso8859_5\n",
      "successful mac_latin2\n",
      "successful cp1257\n",
      "successful cp850\n",
      "successful koi8_r\n",
      "successful iso8859_9\n",
      "successful cp858\n",
      "successful cp1253\n",
      "successful iso8859_15\n",
      "successful iso8859_16\n",
      "successful cp775\n",
      "successful cp857\n",
      "successful iso8859_7\n",
      "successful cp1258\n",
      "successful utf_16_le\n",
      "successful iso8859_4\n",
      "successful mac_turkish\n",
      "successful cp1125\n",
      "successful cp437\n",
      "successful hp_roman8\n",
      "successful gbk\n",
      "successful iso8859_6\n"
     ]
    }
   ],
   "source": [
    "#testing the encodings\n",
    "alias_values = set(aliases.values())\n",
    "\n",
    "for enc in alias_values:\n",
    "    try:\n",
    "        df = pd.read_csv(\"crime.csv\", nrows = 10, encoding = enc)\n",
    "        print(\"successful\", enc)\n",
    "    except:\n",
    "        pass"
   ]
  },
  {
   "cell_type": "code",
   "execution_count": 3,
   "id": "6c874e7b-dcb2-4302-8b5d-644819df03f3",
   "metadata": {},
   "outputs": [],
   "source": [
    "crime = pd.read_csv(\"crime.csv\", encoding = \"ISO-8859-11\")"
   ]
  },
  {
   "cell_type": "code",
   "execution_count": 4,
   "id": "49464895-980e-4930-94ce-9f143fbea3cb",
   "metadata": {},
   "outputs": [
    {
     "data": {
      "text/plain": [
       "(319073, 17)"
      ]
     },
     "execution_count": 4,
     "metadata": {},
     "output_type": "execute_result"
    }
   ],
   "source": [
    "crime.shape"
   ]
  },
  {
   "cell_type": "markdown",
   "id": "5c2d62b9-9cfa-4bb1-8cd0-56550a60cee8",
   "metadata": {},
   "source": [
    "## "
   ]
  },
  {
   "cell_type": "markdown",
   "id": "146ea7fd-63dd-422c-8d02-19aed22ca495",
   "metadata": {},
   "source": [
    "## Transforming and exploring data "
   ]
  },
  {
   "cell_type": "code",
   "execution_count": 5,
   "id": "f2dd04cd-6e17-4e8e-8c3e-5cb31e4343ab",
   "metadata": {},
   "outputs": [
    {
     "data": {
      "text/plain": [
       "np.int64(23)"
      ]
     },
     "execution_count": 5,
     "metadata": {},
     "output_type": "execute_result"
    }
   ],
   "source": [
    "\n",
    "crime.duplicated().sum()"
   ]
  },
  {
   "cell_type": "code",
   "execution_count": 6,
   "id": "b9d2dbab-6b89-481f-8583-052da73ab4e6",
   "metadata": {},
   "outputs": [],
   "source": [
    "crime.drop_duplicates(inplace = True)"
   ]
  },
  {
   "cell_type": "code",
   "execution_count": 7,
   "id": "ea201437-fb4d-4425-b88c-a433e4fd29ce",
   "metadata": {},
   "outputs": [
    {
     "data": {
      "text/plain": [
       "(319050, 17)"
      ]
     },
     "execution_count": 7,
     "metadata": {},
     "output_type": "execute_result"
    }
   ],
   "source": [
    "crime.shape"
   ]
  },
  {
   "cell_type": "code",
   "execution_count": 8,
   "id": "fd2760af-e4aa-45e9-8151-1ede2144e422",
   "metadata": {},
   "outputs": [
    {
     "data": {
      "text/plain": [
       "INCIDENT_NUMBER             0\n",
       "OFFENSE_CODE                0\n",
       "OFFENSE_CODE_GROUP          0\n",
       "OFFENSE_DESCRIPTION         0\n",
       "DISTRICT                 1765\n",
       "REPORTING_AREA              0\n",
       "SHOOTING               318031\n",
       "OCCURRED_ON_DATE            0\n",
       "YEAR                        0\n",
       "MONTH                       0\n",
       "DAY_OF_WEEK                 0\n",
       "HOUR                        0\n",
       "UCR_PART                   90\n",
       "STREET                  10871\n",
       "Lat                     19998\n",
       "Long                    19998\n",
       "Location                    0\n",
       "dtype: int64"
      ]
     },
     "execution_count": 8,
     "metadata": {},
     "output_type": "execute_result"
    }
   ],
   "source": [
    "crime.isnull().sum()"
   ]
  },
  {
   "cell_type": "code",
   "execution_count": 9,
   "id": "9cd571a6-068e-4ae4-8de0-b4833eca8f32",
   "metadata": {},
   "outputs": [
    {
     "data": {
      "text/plain": [
       "Index(['DISTRICT', 'SHOOTING', 'UCR_PART', 'STREET', 'Lat', 'Long'], dtype='object')"
      ]
     },
     "execution_count": 9,
     "metadata": {},
     "output_type": "execute_result"
    }
   ],
   "source": [
    "crime.columns[(crime.isnull().sum()) != 0] #finding null columns"
   ]
  },
  {
   "cell_type": "code",
   "execution_count": 10,
   "id": "ada8d815-ab6f-44cc-bbc0-2cee0acbd956",
   "metadata": {},
   "outputs": [
    {
     "data": {
      "text/plain": [
       "Index(['INCIDENT_NUMBER', 'OFFENSE_CODE', 'OFFENSE_CODE_GROUP',\n",
       "       'OFFENSE_DESCRIPTION', 'REPORTING_AREA', 'OCCURRED_ON_DATE', 'YEAR',\n",
       "       'MONTH', 'DAY_OF_WEEK', 'HOUR', 'Location'],\n",
       "      dtype='object')"
      ]
     },
     "execution_count": 10,
     "metadata": {},
     "output_type": "execute_result"
    }
   ],
   "source": [
    "crime.columns[np.sum(crime.isnull(), axis = 0) == 0] # finding non null columns"
   ]
  },
  {
   "cell_type": "code",
   "execution_count": 11,
   "id": "24ce7094-4dac-40d3-9798-accd24dd3f74",
   "metadata": {},
   "outputs": [
    {
     "name": "stdout",
     "output_type": "stream",
     "text": [
      "INCIDENT_NUMBER has 282517 unique values\n",
      "OFFENSE_CODE has 222 unique values\n",
      "OFFENSE_CODE_GROUP has 67 unique values\n",
      "OFFENSE_DESCRIPTION has 244 unique values\n",
      "DISTRICT has 12 unique values\n",
      "REPORTING_AREA has 879 unique values\n",
      "SHOOTING has 1 unique values\n",
      "OCCURRED_ON_DATE has 233229 unique values\n",
      "YEAR has 4 unique values\n",
      "MONTH has 12 unique values\n",
      "DAY_OF_WEEK has 7 unique values\n",
      "HOUR has 24 unique values\n",
      "UCR_PART has 4 unique values\n",
      "STREET has 4657 unique values\n",
      "Lat has 18178 unique values\n",
      "Long has 18178 unique values\n",
      "Location has 18194 unique values\n"
     ]
    }
   ],
   "source": [
    "for col in crime.columns:\n",
    "     unique_values = crime[col].nunique()\n",
    "     print(col, 'has', unique_values,  'unique values')"
   ]
  },
  {
   "cell_type": "code",
   "execution_count": 12,
   "id": "2f44fdc6-3f67-4bcf-a8a7-653bda5c295d",
   "metadata": {},
   "outputs": [
    {
     "name": "stdout",
     "output_type": "stream",
     "text": [
      "<class 'pandas.core.frame.DataFrame'>\n",
      "Index: 319050 entries, 0 to 319072\n",
      "Data columns (total 17 columns):\n",
      " #   Column               Non-Null Count   Dtype  \n",
      "---  ------               --------------   -----  \n",
      " 0   INCIDENT_NUMBER      319050 non-null  object \n",
      " 1   OFFENSE_CODE         319050 non-null  int64  \n",
      " 2   OFFENSE_CODE_GROUP   319050 non-null  object \n",
      " 3   OFFENSE_DESCRIPTION  319050 non-null  object \n",
      " 4   DISTRICT             317285 non-null  object \n",
      " 5   REPORTING_AREA       319050 non-null  object \n",
      " 6   SHOOTING             1019 non-null    object \n",
      " 7   OCCURRED_ON_DATE     319050 non-null  object \n",
      " 8   YEAR                 319050 non-null  int64  \n",
      " 9   MONTH                319050 non-null  int64  \n",
      " 10  DAY_OF_WEEK          319050 non-null  object \n",
      " 11  HOUR                 319050 non-null  int64  \n",
      " 12  UCR_PART             318960 non-null  object \n",
      " 13  STREET               308179 non-null  object \n",
      " 14  Lat                  299052 non-null  float64\n",
      " 15  Long                 299052 non-null  float64\n",
      " 16  Location             319050 non-null  object \n",
      "dtypes: float64(2), int64(4), object(11)\n",
      "memory usage: 43.8+ MB\n"
     ]
    }
   ],
   "source": [
    "crime.info()"
   ]
  },
  {
   "cell_type": "code",
   "execution_count": 13,
   "id": "ede62ccc-41ea-4f62-9827-fa6ec2311b3b",
   "metadata": {},
   "outputs": [],
   "source": [
    "crime['OCCURRED_ON_DATE'] = pd.to_datetime(crime['OCCURRED_ON_DATE'])"
   ]
  },
  {
   "cell_type": "code",
   "execution_count": 14,
   "id": "797a9f09-e8df-4bc8-bbf3-07a4a65b4229",
   "metadata": {},
   "outputs": [
    {
     "name": "stdout",
     "output_type": "stream",
     "text": [
      "<class 'pandas.core.frame.DataFrame'>\n",
      "Index: 319050 entries, 0 to 319072\n",
      "Data columns (total 17 columns):\n",
      " #   Column               Non-Null Count   Dtype         \n",
      "---  ------               --------------   -----         \n",
      " 0   INCIDENT_NUMBER      319050 non-null  object        \n",
      " 1   OFFENSE_CODE         319050 non-null  int64         \n",
      " 2   OFFENSE_CODE_GROUP   319050 non-null  object        \n",
      " 3   OFFENSE_DESCRIPTION  319050 non-null  object        \n",
      " 4   DISTRICT             317285 non-null  object        \n",
      " 5   REPORTING_AREA       319050 non-null  object        \n",
      " 6   SHOOTING             1019 non-null    object        \n",
      " 7   OCCURRED_ON_DATE     319050 non-null  datetime64[ns]\n",
      " 8   YEAR                 319050 non-null  int64         \n",
      " 9   MONTH                319050 non-null  int64         \n",
      " 10  DAY_OF_WEEK          319050 non-null  object        \n",
      " 11  HOUR                 319050 non-null  int64         \n",
      " 12  UCR_PART             318960 non-null  object        \n",
      " 13  STREET               308179 non-null  object        \n",
      " 14  Lat                  299052 non-null  float64       \n",
      " 15  Long                 299052 non-null  float64       \n",
      " 16  Location             319050 non-null  object        \n",
      "dtypes: datetime64[ns](1), float64(2), int64(4), object(10)\n",
      "memory usage: 43.8+ MB\n"
     ]
    }
   ],
   "source": [
    "crime.info()"
   ]
  },
  {
   "cell_type": "code",
   "execution_count": 15,
   "id": "48d68f12-aa3e-4d50-b4fc-7f1fa3273a89",
   "metadata": {},
   "outputs": [
    {
     "data": {
      "text/plain": [
       "0         2018\n",
       "1         2018\n",
       "2         2018\n",
       "3         2018\n",
       "4         2018\n",
       "          ... \n",
       "319068    2016\n",
       "319069    2015\n",
       "319070    2015\n",
       "319071    2016\n",
       "319072    2015\n",
       "Name: OCCURRED_ON_DATE, Length: 319050, dtype: int32"
      ]
     },
     "execution_count": 15,
     "metadata": {},
     "output_type": "execute_result"
    }
   ],
   "source": [
    "crime[ 'OCCURRED_ON_DATE' ].dt.year"
   ]
  },
  {
   "cell_type": "code",
   "execution_count": 16,
   "id": "c77dc361-8d33-475b-877e-1ec1690a6ef5",
   "metadata": {},
   "outputs": [
    {
     "data": {
      "text/plain": [
       "0         9\n",
       "1         8\n",
       "2         9\n",
       "3         9\n",
       "4         9\n",
       "         ..\n",
       "319068    6\n",
       "319069    7\n",
       "319070    7\n",
       "319071    5\n",
       "319072    6\n",
       "Name: OCCURRED_ON_DATE, Length: 319050, dtype: int32"
      ]
     },
     "execution_count": 16,
     "metadata": {},
     "output_type": "execute_result"
    }
   ],
   "source": [
    "crime[ 'OCCURRED_ON_DATE' ].dt.month"
   ]
  },
  {
   "cell_type": "code",
   "execution_count": 17,
   "id": "d20de8bc-f515-414a-8553-88c7a034e75b",
   "metadata": {},
   "outputs": [
    {
     "data": {
      "text/plain": [
       "0         35\n",
       "1         34\n",
       "2         36\n",
       "3         36\n",
       "4         36\n",
       "          ..\n",
       "319068    22\n",
       "319069    28\n",
       "319070    28\n",
       "319071    22\n",
       "319072    26\n",
       "Name: week, Length: 319050, dtype: UInt32"
      ]
     },
     "execution_count": 17,
     "metadata": {},
     "output_type": "execute_result"
    }
   ],
   "source": [
    "crime[ 'OCCURRED_ON_DATE' ].dt.isocalendar().week"
   ]
  },
  {
   "cell_type": "code",
   "execution_count": 18,
   "id": "3fac461c-7b0b-485d-a7d9-819888d8af63",
   "metadata": {},
   "outputs": [
    {
     "data": {
      "text/plain": [
       "0         2018\n",
       "1         2018\n",
       "2         2018\n",
       "3         2018\n",
       "4         2018\n",
       "          ... \n",
       "319068    2016\n",
       "319069    2015\n",
       "319070    2015\n",
       "319071    2016\n",
       "319072    2015\n",
       "Name: OCCURRED_ON_DATE, Length: 319050, dtype: int32"
      ]
     },
     "execution_count": 18,
     "metadata": {},
     "output_type": "execute_result"
    }
   ],
   "source": [
    "crime[ 'OCCURRED_ON_DATE' ].dt.year"
   ]
  },
  {
   "cell_type": "code",
   "execution_count": 19,
   "id": "d508b046-c8ba-4f84-b5ed-d78ae7fc2b8f",
   "metadata": {},
   "outputs": [
    {
     "data": {
      "text/plain": [
       "0         13\n",
       "1          0\n",
       "2         19\n",
       "3         21\n",
       "4         21\n",
       "          ..\n",
       "319068    17\n",
       "319069    13\n",
       "319070    13\n",
       "319071    19\n",
       "319072     0\n",
       "Name: OCCURRED_ON_DATE, Length: 319050, dtype: int32"
      ]
     },
     "execution_count": 19,
     "metadata": {},
     "output_type": "execute_result"
    }
   ],
   "source": [
    "crime[ 'OCCURRED_ON_DATE' ].dt.hour"
   ]
  },
  {
   "cell_type": "code",
   "execution_count": 20,
   "id": "d2536e25-74e3-4572-973e-c8f5a8b40eee",
   "metadata": {},
   "outputs": [
    {
     "data": {
      "text/html": [
       "<div>\n",
       "<style scoped>\n",
       "    .dataframe tbody tr th:only-of-type {\n",
       "        vertical-align: middle;\n",
       "    }\n",
       "\n",
       "    .dataframe tbody tr th {\n",
       "        vertical-align: top;\n",
       "    }\n",
       "\n",
       "    .dataframe thead th {\n",
       "        text-align: right;\n",
       "    }\n",
       "</style>\n",
       "<table border=\"1\" class=\"dataframe\">\n",
       "  <thead>\n",
       "    <tr style=\"text-align: right;\">\n",
       "      <th></th>\n",
       "      <th>OFFENSE_CODE</th>\n",
       "      <th>OCCURRED_ON_DATE</th>\n",
       "      <th>YEAR</th>\n",
       "      <th>MONTH</th>\n",
       "      <th>HOUR</th>\n",
       "      <th>Lat</th>\n",
       "      <th>Long</th>\n",
       "    </tr>\n",
       "  </thead>\n",
       "  <tbody>\n",
       "    <tr>\n",
       "      <th>count</th>\n",
       "      <td>319050.000000</td>\n",
       "      <td>319050</td>\n",
       "      <td>319050.000000</td>\n",
       "      <td>319050.000000</td>\n",
       "      <td>319050.000000</td>\n",
       "      <td>299052.000000</td>\n",
       "      <td>299052.000000</td>\n",
       "    </tr>\n",
       "    <tr>\n",
       "      <th>mean</th>\n",
       "      <td>2317.516957</td>\n",
       "      <td>2017-01-25 12:35:59.149211904</td>\n",
       "      <td>2016.560674</td>\n",
       "      <td>6.609622</td>\n",
       "      <td>13.118176</td>\n",
       "      <td>42.214373</td>\n",
       "      <td>-70.908260</td>\n",
       "    </tr>\n",
       "    <tr>\n",
       "      <th>min</th>\n",
       "      <td>111.000000</td>\n",
       "      <td>2015-06-15 00:00:00</td>\n",
       "      <td>2015.000000</td>\n",
       "      <td>1.000000</td>\n",
       "      <td>0.000000</td>\n",
       "      <td>-1.000000</td>\n",
       "      <td>-71.178674</td>\n",
       "    </tr>\n",
       "    <tr>\n",
       "      <th>25%</th>\n",
       "      <td>1001.000000</td>\n",
       "      <td>2016-04-12 03:30:00</td>\n",
       "      <td>2016.000000</td>\n",
       "      <td>4.000000</td>\n",
       "      <td>9.000000</td>\n",
       "      <td>42.297438</td>\n",
       "      <td>-71.097135</td>\n",
       "    </tr>\n",
       "    <tr>\n",
       "      <th>50%</th>\n",
       "      <td>2907.000000</td>\n",
       "      <td>2017-01-28 04:36:00</td>\n",
       "      <td>2017.000000</td>\n",
       "      <td>7.000000</td>\n",
       "      <td>14.000000</td>\n",
       "      <td>42.325538</td>\n",
       "      <td>-71.077524</td>\n",
       "    </tr>\n",
       "    <tr>\n",
       "      <th>75%</th>\n",
       "      <td>3201.000000</td>\n",
       "      <td>2017-11-05 18:39:00</td>\n",
       "      <td>2017.000000</td>\n",
       "      <td>9.000000</td>\n",
       "      <td>18.000000</td>\n",
       "      <td>42.348624</td>\n",
       "      <td>-71.062467</td>\n",
       "    </tr>\n",
       "    <tr>\n",
       "      <th>max</th>\n",
       "      <td>3831.000000</td>\n",
       "      <td>2018-09-03 21:25:00</td>\n",
       "      <td>2018.000000</td>\n",
       "      <td>12.000000</td>\n",
       "      <td>23.000000</td>\n",
       "      <td>42.395042</td>\n",
       "      <td>-1.000000</td>\n",
       "    </tr>\n",
       "    <tr>\n",
       "      <th>std</th>\n",
       "      <td>1185.308921</td>\n",
       "      <td>NaN</td>\n",
       "      <td>0.996312</td>\n",
       "      <td>3.273677</td>\n",
       "      <td>6.294258</td>\n",
       "      <td>2.159845</td>\n",
       "      <td>3.493746</td>\n",
       "    </tr>\n",
       "  </tbody>\n",
       "</table>\n",
       "</div>"
      ],
      "text/plain": [
       "        OFFENSE_CODE               OCCURRED_ON_DATE           YEAR  \\\n",
       "count  319050.000000                         319050  319050.000000   \n",
       "mean     2317.516957  2017-01-25 12:35:59.149211904    2016.560674   \n",
       "min       111.000000            2015-06-15 00:00:00    2015.000000   \n",
       "25%      1001.000000            2016-04-12 03:30:00    2016.000000   \n",
       "50%      2907.000000            2017-01-28 04:36:00    2017.000000   \n",
       "75%      3201.000000            2017-11-05 18:39:00    2017.000000   \n",
       "max      3831.000000            2018-09-03 21:25:00    2018.000000   \n",
       "std      1185.308921                            NaN       0.996312   \n",
       "\n",
       "               MONTH           HOUR            Lat           Long  \n",
       "count  319050.000000  319050.000000  299052.000000  299052.000000  \n",
       "mean        6.609622      13.118176      42.214373     -70.908260  \n",
       "min         1.000000       0.000000      -1.000000     -71.178674  \n",
       "25%         4.000000       9.000000      42.297438     -71.097135  \n",
       "50%         7.000000      14.000000      42.325538     -71.077524  \n",
       "75%         9.000000      18.000000      42.348624     -71.062467  \n",
       "max        12.000000      23.000000      42.395042      -1.000000  \n",
       "std         3.273677       6.294258       2.159845       3.493746  "
      ]
     },
     "execution_count": 20,
     "metadata": {},
     "output_type": "execute_result"
    }
   ],
   "source": [
    "crime.describe()"
   ]
  },
  {
   "cell_type": "code",
   "execution_count": 21,
   "id": "b42170e1-0832-465d-bc97-26dc2436f1cf",
   "metadata": {},
   "outputs": [
    {
     "data": {
      "text/html": [
       "<div>\n",
       "<style scoped>\n",
       "    .dataframe tbody tr th:only-of-type {\n",
       "        vertical-align: middle;\n",
       "    }\n",
       "\n",
       "    .dataframe tbody tr th {\n",
       "        vertical-align: top;\n",
       "    }\n",
       "\n",
       "    .dataframe thead th {\n",
       "        text-align: right;\n",
       "    }\n",
       "</style>\n",
       "<table border=\"1\" class=\"dataframe\">\n",
       "  <thead>\n",
       "    <tr style=\"text-align: right;\">\n",
       "      <th></th>\n",
       "      <th>INCIDENT_NUMBER</th>\n",
       "      <th>OFFENSE_CODE_GROUP</th>\n",
       "      <th>OFFENSE_DESCRIPTION</th>\n",
       "      <th>DISTRICT</th>\n",
       "      <th>REPORTING_AREA</th>\n",
       "      <th>SHOOTING</th>\n",
       "      <th>DAY_OF_WEEK</th>\n",
       "      <th>UCR_PART</th>\n",
       "      <th>STREET</th>\n",
       "      <th>Location</th>\n",
       "    </tr>\n",
       "  </thead>\n",
       "  <tbody>\n",
       "    <tr>\n",
       "      <th>count</th>\n",
       "      <td>319050</td>\n",
       "      <td>319050</td>\n",
       "      <td>319050</td>\n",
       "      <td>317285</td>\n",
       "      <td>319050</td>\n",
       "      <td>1019</td>\n",
       "      <td>319050</td>\n",
       "      <td>318960</td>\n",
       "      <td>308179</td>\n",
       "      <td>319050</td>\n",
       "    </tr>\n",
       "    <tr>\n",
       "      <th>unique</th>\n",
       "      <td>282517</td>\n",
       "      <td>67</td>\n",
       "      <td>244</td>\n",
       "      <td>12</td>\n",
       "      <td>879</td>\n",
       "      <td>1</td>\n",
       "      <td>7</td>\n",
       "      <td>4</td>\n",
       "      <td>4657</td>\n",
       "      <td>18194</td>\n",
       "    </tr>\n",
       "    <tr>\n",
       "      <th>top</th>\n",
       "      <td>I162030584</td>\n",
       "      <td>Motor Vehicle Accident Response</td>\n",
       "      <td>SICK/INJURED/MEDICAL - PERSON</td>\n",
       "      <td>B2</td>\n",
       "      <td></td>\n",
       "      <td>Y</td>\n",
       "      <td>Friday</td>\n",
       "      <td>Part Three</td>\n",
       "      <td>WASHINGTON ST</td>\n",
       "      <td>(0.00000000, 0.00000000)</td>\n",
       "    </tr>\n",
       "    <tr>\n",
       "      <th>freq</th>\n",
       "      <td>13</td>\n",
       "      <td>37132</td>\n",
       "      <td>18783</td>\n",
       "      <td>49940</td>\n",
       "      <td>20250</td>\n",
       "      <td>1019</td>\n",
       "      <td>48489</td>\n",
       "      <td>158537</td>\n",
       "      <td>14192</td>\n",
       "      <td>19998</td>\n",
       "    </tr>\n",
       "  </tbody>\n",
       "</table>\n",
       "</div>"
      ],
      "text/plain": [
       "       INCIDENT_NUMBER               OFFENSE_CODE_GROUP  \\\n",
       "count           319050                           319050   \n",
       "unique          282517                               67   \n",
       "top         I162030584  Motor Vehicle Accident Response   \n",
       "freq                13                            37132   \n",
       "\n",
       "                  OFFENSE_DESCRIPTION DISTRICT REPORTING_AREA SHOOTING  \\\n",
       "count                          319050   317285         319050     1019   \n",
       "unique                            244       12            879        1   \n",
       "top     SICK/INJURED/MEDICAL - PERSON       B2                       Y   \n",
       "freq                            18783    49940          20250     1019   \n",
       "\n",
       "       DAY_OF_WEEK    UCR_PART         STREET                  Location  \n",
       "count       319050      318960         308179                    319050  \n",
       "unique           7           4           4657                     18194  \n",
       "top         Friday  Part Three  WASHINGTON ST  (0.00000000, 0.00000000)  \n",
       "freq         48489      158537          14192                     19998  "
      ]
     },
     "execution_count": 21,
     "metadata": {},
     "output_type": "execute_result"
    }
   ],
   "source": [
    "crime.describe(include = 'object')"
   ]
  },
  {
   "cell_type": "markdown",
   "id": "b0bc8630-d323-488c-8757-972726825bd3",
   "metadata": {},
   "source": [
    "## "
   ]
  },
  {
   "cell_type": "markdown",
   "id": "a9740717-fc37-4d76-9b2b-1b1d242735c3",
   "metadata": {},
   "source": [
    "## INSIGHTS"
   ]
  },
  {
   "cell_type": "markdown",
   "id": "6b87c87c-c979-4fff-84c8-44e0453555a9",
   "metadata": {},
   "source": [
    "One"
   ]
  },
  {
   "cell_type": "code",
   "execution_count": 22,
   "id": "3f6fe062-2776-456e-b567-82eb5d3af594",
   "metadata": {},
   "outputs": [
    {
     "data": {
      "text/plain": [
       "OFFENSE_CODE_GROUP\n",
       "Motor Vehicle Accident Response              37132\n",
       "Larceny                                      25935\n",
       "Medical Assistance                           23540\n",
       "Investigate Person                           18749\n",
       "Other                                        18073\n",
       "                                             ...  \n",
       "HUMAN TRAFFICKING                                7\n",
       "INVESTIGATE PERSON                               4\n",
       "Biological Threat                                2\n",
       "HUMAN TRAFFICKING - INVOLUNTARY SERVITUDE        2\n",
       "Burglary - No Property Taken                     2\n",
       "Name: count, Length: 67, dtype: int64"
      ]
     },
     "execution_count": 22,
     "metadata": {},
     "output_type": "execute_result"
    }
   ],
   "source": [
    "# Most common crimes in terms of offense group?\n",
    "crime['OFFENSE_CODE_GROUP'].value_counts()"
   ]
  },
  {
   "cell_type": "code",
   "execution_count": 23,
   "id": "f1c8af70-7e8d-4801-b1e4-8f2de57581a4",
   "metadata": {},
   "outputs": [
    {
     "data": {
      "text/plain": [
       "OFFENSE_CODE_GROUP\n",
       "Motor Vehicle Accident Response    11.638301\n",
       "Larceny                             8.128820\n",
       "Medical Assistance                  7.378154\n",
       "Investigate Person                  5.876508\n",
       "Other                               5.664629\n",
       "Drug Violation                      5.185708\n",
       "Simple Assault                      4.960351\n",
       "Vandalism                           4.831218\n",
       "Verbal Disputes                     4.105626\n",
       "Towed                               3.537690\n",
       "Name: count, dtype: float64"
      ]
     },
     "metadata": {},
     "output_type": "display_data"
    },
    {
     "data": {
      "text/plain": [
       "<Axes: xlabel='OFFENSE_CODE_GROUP'>"
      ]
     },
     "execution_count": 23,
     "metadata": {},
     "output_type": "execute_result"
    },
    {
     "data": {
      "image/png": "[encoded data removed]",
      "text/plain": [
       "<Figure size 640x480 with 1 Axes>"
      ]
     },
     "metadata": {},
     "output_type": "display_data"
    }
   ],
   "source": [
    "#represnting as graph\n",
    "\n",
    "offense_group_vals = crime.OFFENSE_CODE_GROUP.value_counts()[:10]\n",
    "total_crime = crime.shape[0]\n",
    "\n",
    "crime_percentage = ((offense_group_vals / total_crime) * 100)\n",
    "display(crime_percentage)\n",
    "\n",
    "crime_percentage.plot(kind = 'bar')"
   ]
  },
  {
   "cell_type": "raw",
   "id": "a2273f44-f2a1-4935-ba45-b8aa982fe65f",
   "metadata": {},
   "source": []
  },
  {
   "cell_type": "markdown",
   "id": "e0eeb671-1d71-43f6-a1ba-9c4d5abef327",
   "metadata": {},
   "source": [
    "TWO"
   ]
  },
  {
   "cell_type": "code",
   "execution_count": 24,
   "id": "c4518ea3-44ae-4ea6-b51c-6dfdadfa29c8",
   "metadata": {},
   "outputs": [
    {
     "data": {
      "text/plain": [
       "OFFENSE_CODE_GROUP\n",
       "HUMAN TRAFFICKING - INVOLUNTARY SERVITUDE        2\n",
       "Burglary - No Property Taken                     2\n",
       "Biological Threat                                2\n",
       "INVESTIGATE PERSON                               4\n",
       "HUMAN TRAFFICKING                                7\n",
       "                                             ...  \n",
       "Other                                        18073\n",
       "Investigate Person                           18749\n",
       "Medical Assistance                           23540\n",
       "Larceny                                      25935\n",
       "Motor Vehicle Accident Response              37132\n",
       "Name: count, Length: 67, dtype: int64"
      ]
     },
     "execution_count": 24,
     "metadata": {},
     "output_type": "execute_result"
    }
   ],
   "source": [
    "## What are the least common offense groups?\n",
    "crime.OFFENSE_CODE_GROUP.value_counts().sort_values(ascending = True)"
   ]
  },
  {
   "cell_type": "raw",
   "id": "848bdfc5-13a6-4fbc-ad74-1fecbfedf71a",
   "metadata": {},
   "source": []
  },
  {
   "cell_type": "markdown",
   "id": "4b9614cd-56fa-41ab-92c2-2c3f5828890d",
   "metadata": {},
   "source": [
    "Three"
   ]
  },
  {
   "cell_type": "code",
   "execution_count": 25,
   "id": "d1c385bd-0a6b-4d09-b211-81f84dd5f2b1",
   "metadata": {},
   "outputs": [
    {
     "data": {
      "text/plain": [
       "OFFENSE_DESCRIPTION\n",
       "SICK/INJURED/MEDICAL - PERSON                  18783\n",
       "INVESTIGATE PERSON                             18753\n",
       "M/V - LEAVING SCENE - PROPERTY DAMAGE          16323\n",
       "VANDALISM                                      15153\n",
       "ASSAULT SIMPLE - BATTERY                       14791\n",
       "                                               ...  \n",
       "B&E RESIDENCE DAY - NO FORCE                       1\n",
       "ROBBERY - UNARMED - BUSINESS                       1\n",
       "B&E NON-RESIDENCE NIGHT - FORCE                    1\n",
       "PROSTITUTE - COMMON NIGHTWALKER                    1\n",
       "DRUGS - POSS CLASS D - INTENT MFR DIST DISP        1\n",
       "Name: count, Length: 244, dtype: int64"
      ]
     },
     "execution_count": 25,
     "metadata": {},
     "output_type": "execute_result"
    }
   ],
   "source": [
    "# Question 1 - What are the most common offense descriptions?\n",
    "crime.OFFENSE_DESCRIPTION.value_counts()"
   ]
  },
  {
   "cell_type": "code",
   "execution_count": 26,
   "id": "c4744656-f973-4abf-81e8-b70f689925a7",
   "metadata": {},
   "outputs": [
    {
     "data": {
      "text/plain": [
       "OFFENSE_DESCRIPTION\n",
       "SICK/INJURED/MEDICAL - PERSON            5.887165\n",
       "INVESTIGATE PERSON                       5.877762\n",
       "M/V - LEAVING SCENE - PROPERTY DAMAGE    5.116126\n",
       "VANDALISM                                4.749412\n",
       "ASSAULT SIMPLE - BATTERY                 4.635950\n",
       "VERBAL DISPUTE                           4.105626\n",
       "TOWED MOTOR VEHICLE                      3.537690\n",
       "INVESTIGATE PROPERTY                     3.486601\n",
       "LARCENY THEFT FROM BUILDING              2.842501\n",
       "THREATS TO DO BODILY HARM                2.834039\n",
       "Name: count, dtype: float64"
      ]
     },
     "metadata": {},
     "output_type": "display_data"
    },
    {
     "data": {
      "text/plain": [
       "<Axes: xlabel='OFFENSE_DESCRIPTION'>"
      ]
     },
     "execution_count": 26,
     "metadata": {},
     "output_type": "execute_result"
    },
    {
     "data": {
      "image/png": "[encoded data removed]",
      "text/plain": [
       "<Figure size 640x480 with 1 Axes>"
      ]
     },
     "metadata": {},
     "output_type": "display_data"
    }
   ],
   "source": [
    "desc_count = crime.OFFENSE_DESCRIPTION.value_counts()[:10]\n",
    "total_crime = crime.shape[0]\n",
    "\n",
    "percentage = ((desc_count/total_crime) * 100)\n",
    "\n",
    "display(percentage)\n",
    "\n",
    "percentage.plot(kind = 'bar')"
   ]
  },
  {
   "cell_type": "raw",
   "id": "8703dde3-3e1e-494e-bfd7-8d2ef3cf9b03",
   "metadata": {},
   "source": []
  },
  {
   "cell_type": "markdown",
   "id": "7c060152-e9d5-4e11-81ba-aac8c44861cd",
   "metadata": {},
   "source": [
    "Four"
   ]
  },
  {
   "cell_type": "code",
   "execution_count": 27,
   "id": "1b6a40e5-87da-4104-8798-fc9fc0ee8e99",
   "metadata": {},
   "outputs": [
    {
     "data": {
      "text/plain": [
       "YEAR\n",
       "2015     53371\n",
       "2016     99110\n",
       "2017    100884\n",
       "2018     65685\n",
       "Name: INCIDENT_NUMBER, dtype: int64"
      ]
     },
     "metadata": {},
     "output_type": "display_data"
    },
    {
     "data": {
      "text/plain": [
       "<Axes: xlabel='YEAR'>"
      ]
     },
     "execution_count": 27,
     "metadata": {},
     "output_type": "execute_result"
    },
    {
     "data": {
      "image/png": "[encoded data removed]",
      "text/plain": [
       "<Figure size 640x480 with 1 Axes>"
      ]
     },
     "metadata": {},
     "output_type": "display_data"
    }
   ],
   "source": [
    "# In which year were the most crimes committed?\n",
    "crime.groupby('YEAR').count()['INCIDENT_NUMBER']\n",
    "\n",
    "from IPython.display import display as ipython_display\n",
    "crime_year = crime.groupby('YEAR').count()['INCIDENT_NUMBER']\n",
    "\n",
    "display(crime_year)\n",
    "\n",
    "crime_year.plot(kind = 'bar')"
   ]
  },
  {
   "cell_type": "raw",
   "id": "55347cc9-457d-466f-b69c-e30b026e1d19",
   "metadata": {},
   "source": []
  },
  {
   "cell_type": "markdown",
   "id": "23044154-0aaf-41f4-8e64-c8a6084b90f8",
   "metadata": {},
   "source": [
    "FIVE"
   ]
  },
  {
   "cell_type": "code",
   "execution_count": 28,
   "id": "d56e4140-3b30-4f8c-8d3f-11c02d898fcd",
   "metadata": {},
   "outputs": [
    {
     "data": {
      "text/plain": [
       "DAY_OF_WEEK\n",
       "Sunday       40313\n",
       "Saturday     44816\n",
       "Monday       45674\n",
       "Tuesday      46376\n",
       "Thursday     46655\n",
       "Wednesday    46727\n",
       "Friday       48489\n",
       "Name: INCIDENT_NUMBER, dtype: int64"
      ]
     },
     "metadata": {},
     "output_type": "display_data"
    },
    {
     "data": {
      "text/plain": [
       "<Axes: xlabel='DAY_OF_WEEK'>"
      ]
     },
     "execution_count": 28,
     "metadata": {},
     "output_type": "execute_result"
    },
    {
     "data": {
      "image/png": "[encoded data removed]",
      "text/plain": [
       "<Figure size 640x480 with 1 Axes>"
      ]
     },
     "metadata": {},
     "output_type": "display_data"
    }
   ],
   "source": [
    "# Question 3 - Are there more crimes committed on specific days?\n",
    "crime_count = crime.groupby('DAY_OF_WEEK').count()['INCIDENT_NUMBER'].sort_values(ascending = True)\n",
    "\n",
    "display(crime_count)\n",
    "\n",
    "crime_count.plot(kind = 'bar' )"
   ]
  },
  {
   "cell_type": "raw",
   "id": "fb649395-b1d1-4de0-98ee-78c3100c9413",
   "metadata": {},
   "source": []
  },
  {
   "cell_type": "markdown",
   "id": "21a1d30e-2b84-4634-ab6b-b4a09f6267c4",
   "metadata": {},
   "source": [
    "SIX"
   ]
  },
  {
   "cell_type": "code",
   "execution_count": 29,
   "id": "1f1ef9e1-ad49-44dc-abf0-11e6348dc86e",
   "metadata": {},
   "outputs": [
    {
     "data": {
      "image/png": "[encoded data removed]",
      "text/plain": [
       "<Figure size 640x480 with 1 Axes>"
      ]
     },
     "metadata": {},
     "output_type": "display_data"
    }
   ],
   "source": [
    "# Are there more crimes during specific hours?\n",
    "\n",
    "crime.groupby('HOUR').count()['INCIDENT_NUMBER'].plot(kind='bar');"
   ]
  },
  {
   "cell_type": "raw",
   "id": "b5ad3f71-dbf2-4bb1-af78-9cc3c1840988",
   "metadata": {},
   "source": []
  },
  {
   "cell_type": "markdown",
   "id": "a35372d0-67b4-43f3-bcef-6701d55ed341",
   "metadata": {},
   "source": [
    "SEVEN"
   ]
  },
  {
   "cell_type": "code",
   "execution_count": 30,
   "id": "91fcee54-bacc-4cae-985e-e2bbcca3faec",
   "metadata": {},
   "outputs": [],
   "source": [
    "# On what days and during which hours are the most crimes committed?\n",
    "crime.groupby(['HOUR','DAY_OF_WEEK']).count()['INCIDENT_NUMBER'].unstack()\n",
    "week_hour = crime.groupby(['HOUR','DAY_OF_WEEK']).count()['INCIDENT_NUMBER'].unstack()"
   ]
  },
  {
   "cell_type": "code",
   "execution_count": 31,
   "id": "715d038d-c29d-4e6b-a2be-d3ce46b46f62",
   "metadata": {},
   "outputs": [],
   "source": [
    "week_hour.columns = [ 'Monday', 'Tuesday', 'Wednesday', 'Thursday', 'Friday', 'Saturday', 'Sunday' ]"
   ]
  },
  {
   "cell_type": "code",
   "execution_count": 32,
   "id": "5ad6b070-1164-4780-ae67-16310f2f06ec",
   "metadata": {},
   "outputs": [
    {
     "data": {
      "image/png": "[encoded data removed]",
      "text/plain": [
       "<Figure size 640x480 with 2 Axes>"
      ]
     },
     "metadata": {},
     "output_type": "display_data"
    }
   ],
   "source": [
    "sns.heatmap(week_hour, cmap=sns.cubehelix_palette(as_cmap=True));"
   ]
  },
  {
   "cell_type": "code",
   "execution_count": 33,
   "id": "3e4daca0-f1e6-4bc1-8eae-8f4b6a7d8aa6",
   "metadata": {},
   "outputs": [
    {
     "name": "stdout",
     "output_type": "stream",
     "text": [
      "The average number of crimes is 7976.25\n"
     ]
    },
    {
     "data": {
      "text/html": [
       "<style type=\"text/css\">\n",
       "#T_b6ab3_row0_col1, #T_b6ab3_row0_col3, #T_b6ab3_row1_col1, #T_b6ab3_row1_col2, #T_b6ab3_row1_col3, #T_b6ab3_row2_col3, #T_b6ab3_row3_col3, #T_b6ab3_row5_col0, #T_b6ab3_row8_col3, #T_b6ab3_row10_col0, #T_b6ab3_row10_col1, #T_b6ab3_row10_col2, #T_b6ab3_row11_col1, #T_b6ab3_row11_col2 {\n",
       "  color: blue;\n",
       "}\n",
       "</style>\n",
       "<table id=\"T_b6ab3\">\n",
       "  <thead>\n",
       "    <tr>\n",
       "      <th class=\"index_name level0\" >YEAR</th>\n",
       "      <th id=\"T_b6ab3_level0_col0\" class=\"col_heading level0 col0\" >2015</th>\n",
       "      <th id=\"T_b6ab3_level0_col1\" class=\"col_heading level0 col1\" >2016</th>\n",
       "      <th id=\"T_b6ab3_level0_col2\" class=\"col_heading level0 col2\" >2017</th>\n",
       "      <th id=\"T_b6ab3_level0_col3\" class=\"col_heading level0 col3\" >2018</th>\n",
       "    </tr>\n",
       "    <tr>\n",
       "      <th class=\"index_name level0\" >MONTH</th>\n",
       "      <th class=\"blank col0\" >&nbsp;</th>\n",
       "      <th class=\"blank col1\" >&nbsp;</th>\n",
       "      <th class=\"blank col2\" >&nbsp;</th>\n",
       "      <th class=\"blank col3\" >&nbsp;</th>\n",
       "    </tr>\n",
       "  </thead>\n",
       "  <tbody>\n",
       "    <tr>\n",
       "      <th id=\"T_b6ab3_level0_row0\" class=\"row_heading level0 row0\" >1</th>\n",
       "      <td id=\"T_b6ab3_row0_col0\" class=\"data row0 col0\" >nan</td>\n",
       "      <td id=\"T_b6ab3_row0_col1\" class=\"data row0 col1\" >7835.000000</td>\n",
       "      <td id=\"T_b6ab3_row0_col2\" class=\"data row0 col2\" >7991.000000</td>\n",
       "      <td id=\"T_b6ab3_row0_col3\" class=\"data row0 col3\" >7782.000000</td>\n",
       "    </tr>\n",
       "    <tr>\n",
       "      <th id=\"T_b6ab3_level0_row1\" class=\"row_heading level0 row1\" >2</th>\n",
       "      <td id=\"T_b6ab3_row1_col0\" class=\"data row1 col0\" >nan</td>\n",
       "      <td id=\"T_b6ab3_row1_col1\" class=\"data row1 col1\" >7307.000000</td>\n",
       "      <td id=\"T_b6ab3_row1_col2\" class=\"data row1 col2\" >7408.000000</td>\n",
       "      <td id=\"T_b6ab3_row1_col3\" class=\"data row1 col3\" >6937.000000</td>\n",
       "    </tr>\n",
       "    <tr>\n",
       "      <th id=\"T_b6ab3_level0_row2\" class=\"row_heading level0 row2\" >3</th>\n",
       "      <td id=\"T_b6ab3_row2_col0\" class=\"data row2 col0\" >nan</td>\n",
       "      <td id=\"T_b6ab3_row2_col1\" class=\"data row2 col1\" >8199.000000</td>\n",
       "      <td id=\"T_b6ab3_row2_col2\" class=\"data row2 col2\" >8179.000000</td>\n",
       "      <td id=\"T_b6ab3_row2_col3\" class=\"data row2 col3\" >7768.000000</td>\n",
       "    </tr>\n",
       "    <tr>\n",
       "      <th id=\"T_b6ab3_level0_row3\" class=\"row_heading level0 row3\" >4</th>\n",
       "      <td id=\"T_b6ab3_row3_col0\" class=\"data row3 col0\" >nan</td>\n",
       "      <td id=\"T_b6ab3_row3_col1\" class=\"data row3 col1\" >8101.000000</td>\n",
       "      <td id=\"T_b6ab3_row3_col2\" class=\"data row3 col2\" >8069.000000</td>\n",
       "      <td id=\"T_b6ab3_row3_col3\" class=\"data row3 col3\" >7916.000000</td>\n",
       "    </tr>\n",
       "    <tr>\n",
       "      <th id=\"T_b6ab3_level0_row4\" class=\"row_heading level0 row4\" >5</th>\n",
       "      <td id=\"T_b6ab3_row4_col0\" class=\"data row4 col0\" >nan</td>\n",
       "      <td id=\"T_b6ab3_row4_col1\" class=\"data row4 col1\" >8578.000000</td>\n",
       "      <td id=\"T_b6ab3_row4_col2\" class=\"data row4 col2\" >8715.000000</td>\n",
       "      <td id=\"T_b6ab3_row4_col3\" class=\"data row4 col3\" >8906.000000</td>\n",
       "    </tr>\n",
       "    <tr>\n",
       "      <th id=\"T_b6ab3_level0_row5\" class=\"row_heading level0 row5\" >6</th>\n",
       "      <td id=\"T_b6ab3_row5_col0\" class=\"data row5 col0\" >4188.000000</td>\n",
       "      <td id=\"T_b6ab3_row5_col1\" class=\"data row5 col1\" >8558.000000</td>\n",
       "      <td id=\"T_b6ab3_row5_col2\" class=\"data row5 col2\" >8985.000000</td>\n",
       "      <td id=\"T_b6ab3_row5_col3\" class=\"data row5 col3\" >8834.000000</td>\n",
       "    </tr>\n",
       "    <tr>\n",
       "      <th id=\"T_b6ab3_level0_row6\" class=\"row_heading level0 row6\" >7</th>\n",
       "      <td id=\"T_b6ab3_row6_col0\" class=\"data row6 col0\" >8322.000000</td>\n",
       "      <td id=\"T_b6ab3_row6_col1\" class=\"data row6 col1\" >8618.000000</td>\n",
       "      <td id=\"T_b6ab3_row6_col2\" class=\"data row6 col2\" >9075.000000</td>\n",
       "      <td id=\"T_b6ab3_row6_col3\" class=\"data row6 col3\" >8538.000000</td>\n",
       "    </tr>\n",
       "    <tr>\n",
       "      <th id=\"T_b6ab3_level0_row7\" class=\"row_heading level0 row7\" >8</th>\n",
       "      <td id=\"T_b6ab3_row7_col0\" class=\"data row7 col0\" >8340.000000</td>\n",
       "      <td id=\"T_b6ab3_row7_col1\" class=\"data row7 col1\" >8938.000000</td>\n",
       "      <td id=\"T_b6ab3_row7_col2\" class=\"data row7 col2\" >9206.000000</td>\n",
       "      <td id=\"T_b6ab3_row7_col3\" class=\"data row7 col3\" >8337.000000</td>\n",
       "    </tr>\n",
       "    <tr>\n",
       "      <th id=\"T_b6ab3_level0_row8\" class=\"row_heading level0 row8\" >9</th>\n",
       "      <td id=\"T_b6ab3_row8_col0\" class=\"data row8 col0\" >8411.000000</td>\n",
       "      <td id=\"T_b6ab3_row8_col1\" class=\"data row8 col1\" >8521.000000</td>\n",
       "      <td id=\"T_b6ab3_row8_col2\" class=\"data row8 col2\" >8940.000000</td>\n",
       "      <td id=\"T_b6ab3_row8_col3\" class=\"data row8 col3\" >667.000000</td>\n",
       "    </tr>\n",
       "    <tr>\n",
       "      <th id=\"T_b6ab3_level0_row9\" class=\"row_heading level0 row9\" >10</th>\n",
       "      <td id=\"T_b6ab3_row9_col0\" class=\"data row9 col0\" >8305.000000</td>\n",
       "      <td id=\"T_b6ab3_row9_col1\" class=\"data row9 col1\" >8582.000000</td>\n",
       "      <td id=\"T_b6ab3_row9_col2\" class=\"data row9 col2\" >8846.000000</td>\n",
       "      <td id=\"T_b6ab3_row9_col3\" class=\"data row9 col3\" >nan</td>\n",
       "    </tr>\n",
       "    <tr>\n",
       "      <th id=\"T_b6ab3_level0_row10\" class=\"row_heading level0 row10\" >11</th>\n",
       "      <td id=\"T_b6ab3_row10_col0\" class=\"data row10 col0\" >7818.000000</td>\n",
       "      <td id=\"T_b6ab3_row10_col1\" class=\"data row10 col1\" >7922.000000</td>\n",
       "      <td id=\"T_b6ab3_row10_col2\" class=\"data row10 col2\" >7935.000000</td>\n",
       "      <td id=\"T_b6ab3_row10_col3\" class=\"data row10 col3\" >nan</td>\n",
       "    </tr>\n",
       "    <tr>\n",
       "      <th id=\"T_b6ab3_level0_row11\" class=\"row_heading level0 row11\" >12</th>\n",
       "      <td id=\"T_b6ab3_row11_col0\" class=\"data row11 col0\" >7987.000000</td>\n",
       "      <td id=\"T_b6ab3_row11_col1\" class=\"data row11 col1\" >7951.000000</td>\n",
       "      <td id=\"T_b6ab3_row11_col2\" class=\"data row11 col2\" >7535.000000</td>\n",
       "      <td id=\"T_b6ab3_row11_col3\" class=\"data row11 col3\" >nan</td>\n",
       "    </tr>\n",
       "  </tbody>\n",
       "</table>\n"
      ],
      "text/plain": [
       "<pandas.io.formats.style.Styler at 0x2998e5fa3f0>"
      ]
     },
     "execution_count": 33,
     "metadata": {},
     "output_type": "execute_result"
    }
   ],
   "source": [
    "avg_crime = crime.groupby(['YEAR', 'MONTH']).count()['INCIDENT_NUMBER'].mean()\n",
    "print(\"The average number of crimes is \" + str(avg_crime))\n",
    "\n",
    "year_and_month = crime.groupby(['MONTH', 'YEAR']).count()['INCIDENT_NUMBER'].unstack()\n",
    "\n",
    "def style_negative(v, props=''):\n",
    "    return props if v < avg_crime else None\n",
    "s2 = year_and_month.style.map(style_negative, props='color:blue;')\\\n",
    "              .map(lambda v: 'opacity: 20%;' if (v < 0.3) and (v > -0.3) else None)\n",
    "s2\n",
    "\n",
    "\n",
    "\n",
    "\n"
   ]
  },
  {
   "cell_type": "code",
   "execution_count": 34,
   "id": "d95b4e24-70a1-4a6f-bb50-0520deeaee00",
   "metadata": {},
   "outputs": [
    {
     "data": {
      "text/html": [
       "<style type=\"text/css\">\n",
       "#T_b6ab3_row0_col1, #T_b6ab3_row0_col3, #T_b6ab3_row1_col1, #T_b6ab3_row1_col2, #T_b6ab3_row1_col3, #T_b6ab3_row2_col3, #T_b6ab3_row3_col3, #T_b6ab3_row5_col0, #T_b6ab3_row8_col3, #T_b6ab3_row10_col0, #T_b6ab3_row10_col1, #T_b6ab3_row10_col2, #T_b6ab3_row11_col1, #T_b6ab3_row11_col2 {\n",
       "  color: blue;\n",
       "}\n",
       "#T_b6ab3_row4_col3, #T_b6ab3_row7_col1, #T_b6ab3_row7_col2, #T_b6ab3_row8_col0 {\n",
       "  color: white;\n",
       "  background-color: darkgreen;\n",
       "}\n",
       "</style>\n",
       "<table id=\"T_b6ab3\">\n",
       "  <thead>\n",
       "    <tr>\n",
       "      <th class=\"index_name level0\" >YEAR</th>\n",
       "      <th id=\"T_b6ab3_level0_col0\" class=\"col_heading level0 col0\" >2015</th>\n",
       "      <th id=\"T_b6ab3_level0_col1\" class=\"col_heading level0 col1\" >2016</th>\n",
       "      <th id=\"T_b6ab3_level0_col2\" class=\"col_heading level0 col2\" >2017</th>\n",
       "      <th id=\"T_b6ab3_level0_col3\" class=\"col_heading level0 col3\" >2018</th>\n",
       "    </tr>\n",
       "    <tr>\n",
       "      <th class=\"index_name level0\" >MONTH</th>\n",
       "      <th class=\"blank col0\" >&nbsp;</th>\n",
       "      <th class=\"blank col1\" >&nbsp;</th>\n",
       "      <th class=\"blank col2\" >&nbsp;</th>\n",
       "      <th class=\"blank col3\" >&nbsp;</th>\n",
       "    </tr>\n",
       "  </thead>\n",
       "  <tbody>\n",
       "    <tr>\n",
       "      <th id=\"T_b6ab3_level0_row0\" class=\"row_heading level0 row0\" >1</th>\n",
       "      <td id=\"T_b6ab3_row0_col0\" class=\"data row0 col0\" >nan</td>\n",
       "      <td id=\"T_b6ab3_row0_col1\" class=\"data row0 col1\" >7835.000000</td>\n",
       "      <td id=\"T_b6ab3_row0_col2\" class=\"data row0 col2\" >7991.000000</td>\n",
       "      <td id=\"T_b6ab3_row0_col3\" class=\"data row0 col3\" >7782.000000</td>\n",
       "    </tr>\n",
       "    <tr>\n",
       "      <th id=\"T_b6ab3_level0_row1\" class=\"row_heading level0 row1\" >2</th>\n",
       "      <td id=\"T_b6ab3_row1_col0\" class=\"data row1 col0\" >nan</td>\n",
       "      <td id=\"T_b6ab3_row1_col1\" class=\"data row1 col1\" >7307.000000</td>\n",
       "      <td id=\"T_b6ab3_row1_col2\" class=\"data row1 col2\" >7408.000000</td>\n",
       "      <td id=\"T_b6ab3_row1_col3\" class=\"data row1 col3\" >6937.000000</td>\n",
       "    </tr>\n",
       "    <tr>\n",
       "      <th id=\"T_b6ab3_level0_row2\" class=\"row_heading level0 row2\" >3</th>\n",
       "      <td id=\"T_b6ab3_row2_col0\" class=\"data row2 col0\" >nan</td>\n",
       "      <td id=\"T_b6ab3_row2_col1\" class=\"data row2 col1\" >8199.000000</td>\n",
       "      <td id=\"T_b6ab3_row2_col2\" class=\"data row2 col2\" >8179.000000</td>\n",
       "      <td id=\"T_b6ab3_row2_col3\" class=\"data row2 col3\" >7768.000000</td>\n",
       "    </tr>\n",
       "    <tr>\n",
       "      <th id=\"T_b6ab3_level0_row3\" class=\"row_heading level0 row3\" >4</th>\n",
       "      <td id=\"T_b6ab3_row3_col0\" class=\"data row3 col0\" >nan</td>\n",
       "      <td id=\"T_b6ab3_row3_col1\" class=\"data row3 col1\" >8101.000000</td>\n",
       "      <td id=\"T_b6ab3_row3_col2\" class=\"data row3 col2\" >8069.000000</td>\n",
       "      <td id=\"T_b6ab3_row3_col3\" class=\"data row3 col3\" >7916.000000</td>\n",
       "    </tr>\n",
       "    <tr>\n",
       "      <th id=\"T_b6ab3_level0_row4\" class=\"row_heading level0 row4\" >5</th>\n",
       "      <td id=\"T_b6ab3_row4_col0\" class=\"data row4 col0\" >nan</td>\n",
       "      <td id=\"T_b6ab3_row4_col1\" class=\"data row4 col1\" >8578.000000</td>\n",
       "      <td id=\"T_b6ab3_row4_col2\" class=\"data row4 col2\" >8715.000000</td>\n",
       "      <td id=\"T_b6ab3_row4_col3\" class=\"data row4 col3\" >8906.000000</td>\n",
       "    </tr>\n",
       "    <tr>\n",
       "      <th id=\"T_b6ab3_level0_row5\" class=\"row_heading level0 row5\" >6</th>\n",
       "      <td id=\"T_b6ab3_row5_col0\" class=\"data row5 col0\" >4188.000000</td>\n",
       "      <td id=\"T_b6ab3_row5_col1\" class=\"data row5 col1\" >8558.000000</td>\n",
       "      <td id=\"T_b6ab3_row5_col2\" class=\"data row5 col2\" >8985.000000</td>\n",
       "      <td id=\"T_b6ab3_row5_col3\" class=\"data row5 col3\" >8834.000000</td>\n",
       "    </tr>\n",
       "    <tr>\n",
       "      <th id=\"T_b6ab3_level0_row6\" class=\"row_heading level0 row6\" >7</th>\n",
       "      <td id=\"T_b6ab3_row6_col0\" class=\"data row6 col0\" >8322.000000</td>\n",
       "      <td id=\"T_b6ab3_row6_col1\" class=\"data row6 col1\" >8618.000000</td>\n",
       "      <td id=\"T_b6ab3_row6_col2\" class=\"data row6 col2\" >9075.000000</td>\n",
       "      <td id=\"T_b6ab3_row6_col3\" class=\"data row6 col3\" >8538.000000</td>\n",
       "    </tr>\n",
       "    <tr>\n",
       "      <th id=\"T_b6ab3_level0_row7\" class=\"row_heading level0 row7\" >8</th>\n",
       "      <td id=\"T_b6ab3_row7_col0\" class=\"data row7 col0\" >8340.000000</td>\n",
       "      <td id=\"T_b6ab3_row7_col1\" class=\"data row7 col1\" >8938.000000</td>\n",
       "      <td id=\"T_b6ab3_row7_col2\" class=\"data row7 col2\" >9206.000000</td>\n",
       "      <td id=\"T_b6ab3_row7_col3\" class=\"data row7 col3\" >8337.000000</td>\n",
       "    </tr>\n",
       "    <tr>\n",
       "      <th id=\"T_b6ab3_level0_row8\" class=\"row_heading level0 row8\" >9</th>\n",
       "      <td id=\"T_b6ab3_row8_col0\" class=\"data row8 col0\" >8411.000000</td>\n",
       "      <td id=\"T_b6ab3_row8_col1\" class=\"data row8 col1\" >8521.000000</td>\n",
       "      <td id=\"T_b6ab3_row8_col2\" class=\"data row8 col2\" >8940.000000</td>\n",
       "      <td id=\"T_b6ab3_row8_col3\" class=\"data row8 col3\" >667.000000</td>\n",
       "    </tr>\n",
       "    <tr>\n",
       "      <th id=\"T_b6ab3_level0_row9\" class=\"row_heading level0 row9\" >10</th>\n",
       "      <td id=\"T_b6ab3_row9_col0\" class=\"data row9 col0\" >8305.000000</td>\n",
       "      <td id=\"T_b6ab3_row9_col1\" class=\"data row9 col1\" >8582.000000</td>\n",
       "      <td id=\"T_b6ab3_row9_col2\" class=\"data row9 col2\" >8846.000000</td>\n",
       "      <td id=\"T_b6ab3_row9_col3\" class=\"data row9 col3\" >nan</td>\n",
       "    </tr>\n",
       "    <tr>\n",
       "      <th id=\"T_b6ab3_level0_row10\" class=\"row_heading level0 row10\" >11</th>\n",
       "      <td id=\"T_b6ab3_row10_col0\" class=\"data row10 col0\" >7818.000000</td>\n",
       "      <td id=\"T_b6ab3_row10_col1\" class=\"data row10 col1\" >7922.000000</td>\n",
       "      <td id=\"T_b6ab3_row10_col2\" class=\"data row10 col2\" >7935.000000</td>\n",
       "      <td id=\"T_b6ab3_row10_col3\" class=\"data row10 col3\" >nan</td>\n",
       "    </tr>\n",
       "    <tr>\n",
       "      <th id=\"T_b6ab3_level0_row11\" class=\"row_heading level0 row11\" >12</th>\n",
       "      <td id=\"T_b6ab3_row11_col0\" class=\"data row11 col0\" >7987.000000</td>\n",
       "      <td id=\"T_b6ab3_row11_col1\" class=\"data row11 col1\" >7951.000000</td>\n",
       "      <td id=\"T_b6ab3_row11_col2\" class=\"data row11 col2\" >7535.000000</td>\n",
       "      <td id=\"T_b6ab3_row11_col3\" class=\"data row11 col3\" >nan</td>\n",
       "    </tr>\n",
       "  </tbody>\n",
       "</table>\n"
      ],
      "text/plain": [
       "<pandas.io.formats.style.Styler at 0x2998e5fa3f0>"
      ]
     },
     "execution_count": 34,
     "metadata": {},
     "output_type": "execute_result"
    }
   ],
   "source": [
    "# with a heatmap\n",
    "def highlight_max(s, props=''):\n",
    "    return np.where(s == np.nanmax(s.values), props, '')\n",
    "s2.apply(highlight_max, props='color:white;background-color:darkgreen', axis=0)\n"
   ]
  },
  {
   "cell_type": "code",
   "execution_count": 35,
   "id": "50f5728b-c4cd-4f2f-813f-5cea8038a4ba",
   "metadata": {},
   "outputs": [
    {
     "data": {
      "text/html": [
       "<div>\n",
       "<style scoped>\n",
       "    .dataframe tbody tr th:only-of-type {\n",
       "        vertical-align: middle;\n",
       "    }\n",
       "\n",
       "    .dataframe tbody tr th {\n",
       "        vertical-align: top;\n",
       "    }\n",
       "\n",
       "    .dataframe thead th {\n",
       "        text-align: right;\n",
       "    }\n",
       "</style>\n",
       "<table border=\"1\" class=\"dataframe\">\n",
       "  <thead>\n",
       "    <tr style=\"text-align: right;\">\n",
       "      <th>DISTRICT</th>\n",
       "      <th>A1</th>\n",
       "      <th>A15</th>\n",
       "      <th>A7</th>\n",
       "      <th>B2</th>\n",
       "      <th>B3</th>\n",
       "      <th>C11</th>\n",
       "      <th>C6</th>\n",
       "      <th>D14</th>\n",
       "      <th>D4</th>\n",
       "      <th>E13</th>\n",
       "      <th>E18</th>\n",
       "      <th>E5</th>\n",
       "    </tr>\n",
       "    <tr>\n",
       "      <th>YEAR</th>\n",
       "      <th></th>\n",
       "      <th></th>\n",
       "      <th></th>\n",
       "      <th></th>\n",
       "      <th></th>\n",
       "      <th></th>\n",
       "      <th></th>\n",
       "      <th></th>\n",
       "      <th></th>\n",
       "      <th></th>\n",
       "      <th></th>\n",
       "      <th></th>\n",
       "    </tr>\n",
       "  </thead>\n",
       "  <tbody>\n",
       "    <tr>\n",
       "      <th>2015</th>\n",
       "      <td>6010</td>\n",
       "      <td>1027</td>\n",
       "      <td>2426</td>\n",
       "      <td>8682</td>\n",
       "      <td>5616</td>\n",
       "      <td>7363</td>\n",
       "      <td>3939</td>\n",
       "      <td>3280</td>\n",
       "      <td>7203</td>\n",
       "      <td>2800</td>\n",
       "      <td>2740</td>\n",
       "      <td>2157</td>\n",
       "    </tr>\n",
       "    <tr>\n",
       "      <th>2016</th>\n",
       "      <td>10922</td>\n",
       "      <td>1986</td>\n",
       "      <td>4130</td>\n",
       "      <td>15706</td>\n",
       "      <td>11145</td>\n",
       "      <td>13602</td>\n",
       "      <td>7072</td>\n",
       "      <td>6279</td>\n",
       "      <td>12953</td>\n",
       "      <td>5558</td>\n",
       "      <td>5223</td>\n",
       "      <td>4017</td>\n",
       "    </tr>\n",
       "    <tr>\n",
       "      <th>2017</th>\n",
       "      <td>11374</td>\n",
       "      <td>2167</td>\n",
       "      <td>4264</td>\n",
       "      <td>15680</td>\n",
       "      <td>11195</td>\n",
       "      <td>13281</td>\n",
       "      <td>7247</td>\n",
       "      <td>6509</td>\n",
       "      <td>13157</td>\n",
       "      <td>5514</td>\n",
       "      <td>5611</td>\n",
       "      <td>4309</td>\n",
       "    </tr>\n",
       "    <tr>\n",
       "      <th>2018</th>\n",
       "      <td>7404</td>\n",
       "      <td>1325</td>\n",
       "      <td>2724</td>\n",
       "      <td>9872</td>\n",
       "      <td>7485</td>\n",
       "      <td>8282</td>\n",
       "      <td>5199</td>\n",
       "      <td>4059</td>\n",
       "      <td>8601</td>\n",
       "      <td>3662</td>\n",
       "      <td>3773</td>\n",
       "      <td>2755</td>\n",
       "    </tr>\n",
       "  </tbody>\n",
       "</table>\n",
       "</div>"
      ],
      "text/plain": [
       "DISTRICT     A1   A15    A7     B2     B3    C11    C6   D14     D4   E13  \\\n",
       "YEAR                                                                        \n",
       "2015       6010  1027  2426   8682   5616   7363  3939  3280   7203  2800   \n",
       "2016      10922  1986  4130  15706  11145  13602  7072  6279  12953  5558   \n",
       "2017      11374  2167  4264  15680  11195  13281  7247  6509  13157  5514   \n",
       "2018       7404  1325  2724   9872   7485   8282  5199  4059   8601  3662   \n",
       "\n",
       "DISTRICT   E18    E5  \n",
       "YEAR                  \n",
       "2015      2740  2157  \n",
       "2016      5223  4017  \n",
       "2017      5611  4309  \n",
       "2018      3773  2755  "
      ]
     },
     "metadata": {},
     "output_type": "display_data"
    },
    {
     "data": {
      "image/png": "[encoded data removed]",
      "text/plain": [
       "<Figure size 640x480 with 2 Axes>"
      ]
     },
     "metadata": {},
     "output_type": "display_data"
    }
   ],
   "source": [
    "district_and_year = crime.groupby([ 'YEAR', 'DISTRICT']).count()['INCIDENT_NUMBER'].unstack()\n",
    "display(district_and_year)\n",
    "\n",
    "sns.heatmap(district_and_year, cmap=sns.cubehelix_palette(as_cmap=True));"
   ]
  }
 ],
 "metadata": {
  "kernelspec": {
   "display_name": "Python 3 (ipykernel)",
   "language": "python",
   "name": "python3"
  },
  "language_info": {
   "codemirror_mode": {
    "name": "ipython",
    "version": 3
   },
   "file_extension": ".py",
   "mimetype": "text/x-python",
   "name": "python",
   "nbconvert_exporter": "python",
   "pygments_lexer": "ipython3",
   "version": "3.12.6"
  }
 },
 "nbformat": 4,
 "nbformat_minor": 5
}
